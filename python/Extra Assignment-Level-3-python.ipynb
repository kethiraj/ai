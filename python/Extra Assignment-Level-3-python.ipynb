{
 "cells": [
  {
   "cell_type": "code",
   "execution_count": 3,
   "id": "6f39fd04-8948-4d2f-9e12-ac2596beb725",
   "metadata": {},
   "outputs": [
    {
     "name": "stdin",
     "output_type": "stream",
     "text": [
      "value: 10\n"
     ]
    },
    {
     "name": "stdout",
     "output_type": "stream",
     "text": [
      "correct\n"
     ]
    }
   ],
   "source": [
    "value=int(input(\"value:\"))\n",
    "if(value==10):\n",
    "    print(\"correct\")"
   ]
  },
  {
   "cell_type": "code",
   "execution_count": 14,
   "id": "3c447d70-1b18-4427-bc90-37e11e196fd7",
   "metadata": {},
   "outputs": [
    {
     "name": "stdin",
     "output_type": "stream",
     "text": [
      "Enter the password: Hope@123\n"
     ]
    },
    {
     "name": "stdout",
     "output_type": "stream",
     "text": [
      "Your password is correct\n"
     ]
    }
   ],
   "source": [
    "password=input(\"Enter the password:\")\n",
    "if(password==\"Hope@123\"):\n",
    "    print(\"Your password is correct\")\n",
    "else:\n",
    "    print(\"wrong\")"
   ]
  },
  {
   "cell_type": "code",
   "execution_count": 19,
   "id": "c5a13664-9d27-4db0-bb4a-e5e73467865d",
   "metadata": {},
   "outputs": [
    {
     "name": "stdin",
     "output_type": "stream",
     "text": [
      "age: 20\n"
     ]
    },
    {
     "name": "stdout",
     "output_type": "stream",
     "text": [
      "adult\n"
     ]
    }
   ],
   "source": [
    "age=int(input(\"age:\"))\n",
    "if(age<18):\n",
    "    print(\"children\")\n",
    "elif(age<35):\n",
    "    print(\"adult\")\n",
    "elif(age<59):\n",
    "    print(\"citizen\")\n",
    "else:\n",
    "    print(\"senior citizen\")    "
   ]
  },
  {
   "cell_type": "code",
   "execution_count": 22,
   "id": "b67d34cf-1a4b-40f7-bc0c-26c729dc49d6",
   "metadata": {},
   "outputs": [
    {
     "name": "stdin",
     "output_type": "stream",
     "text": [
      "Enter any number: 1\n"
     ]
    },
    {
     "name": "stdout",
     "output_type": "stream",
     "text": [
      "No is positive\n"
     ]
    }
   ],
   "source": [
    "number=int(input(\"Enter any number:\"))\n",
    "if(number > 0):\n",
    "    print(\"No is positive\")\n",
    "else:\n",
    "    print(\"No is negative\")"
   ]
  },
  {
   "cell_type": "code",
   "execution_count": 31,
   "id": "340054d7-958b-42d8-94ae-2b5a76f2e1e4",
   "metadata": {},
   "outputs": [
    {
     "name": "stdin",
     "output_type": "stream",
     "text": [
      "Enter a number to check: 22\n"
     ]
    },
    {
     "name": "stdout",
     "output_type": "stream",
     "text": [
      "No is not divisible by 5\n"
     ]
    }
   ],
   "source": [
    "check=int(input(\"Enter a number to check:\"))\n",
    "if(check % 5 != 0):\n",
    "    print(\"No is not divisible by 5\")\n",
    "else:\n",
    "    print(\"No is divisible by 5\")"
   ]
  },
  {
   "cell_type": "code",
   "execution_count": null,
   "id": "553017db-fc41-48a5-9a3e-c38c2a0135fe",
   "metadata": {},
   "outputs": [],
   "source": []
  }
 ],
 "metadata": {
  "kernelspec": {
   "display_name": "Python 3 (ipykernel)",
   "language": "python",
   "name": "python3"
  },
  "language_info": {
   "codemirror_mode": {
    "name": "ipython",
    "version": 3
   },
   "file_extension": ".py",
   "mimetype": "text/x-python",
   "name": "python",
   "nbconvert_exporter": "python",
   "pygments_lexer": "ipython3",
   "version": "3.13.5"
  }
 },
 "nbformat": 4,
 "nbformat_minor": 5
}
