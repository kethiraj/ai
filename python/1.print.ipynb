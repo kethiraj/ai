{
 "cells": [
  {
   "cell_type": "code",
   "execution_count": 1,
   "id": "c1889490-d80b-4fa2-ba44-26aa8e11586f",
   "metadata": {},
   "outputs": [
    {
     "name": "stdout",
     "output_type": "stream",
     "text": [
      "\n"
     ]
    }
   ],
   "source": [
    "print()"
   ]
  },
  {
   "cell_type": "code",
   "execution_count": 2,
   "id": "c0aaa191-d1a6-4d6d-a348-669c33bbe65a",
   "metadata": {},
   "outputs": [
    {
     "ename": "NameError",
     "evalue": "name 'Ethiraj' is not defined",
     "output_type": "error",
     "traceback": [
      "\u001b[1;31m---------------------------------------------------------------------------\u001b[0m",
      "\u001b[1;31mNameError\u001b[0m                                 Traceback (most recent call last)",
      "Cell \u001b[1;32mIn[2], line 1\u001b[0m\n\u001b[1;32m----> 1\u001b[0m \u001b[38;5;28mprint\u001b[39m(Ethiraj)\n",
      "\u001b[1;31mNameError\u001b[0m: name 'Ethiraj' is not defined"
     ]
    }
   ],
   "source": [
    "print(Ethiraj)"
   ]
  },
  {
   "cell_type": "code",
   "execution_count": 3,
   "id": "2ae81187-8825-4ac3-bba1-fdf8f01da071",
   "metadata": {},
   "outputs": [
    {
     "name": "stdout",
     "output_type": "stream",
     "text": [
      "Ethiraj\n"
     ]
    }
   ],
   "source": [
    "print(\"Ethiraj\")"
   ]
  },
  {
   "cell_type": "code",
   "execution_count": null,
   "id": "db21a96d-1172-4e4f-8532-c5d48c1d8a53",
   "metadata": {},
   "outputs": [],
   "source": []
  }
 ],
 "metadata": {
  "kernelspec": {
   "display_name": "Python 3 (ipykernel)",
   "language": "python",
   "name": "python3"
  },
  "language_info": {
   "codemirror_mode": {
    "name": "ipython",
    "version": 3
   },
   "file_extension": ".py",
   "mimetype": "text/x-python",
   "name": "python",
   "nbconvert_exporter": "python",
   "pygments_lexer": "ipython3",
   "version": "3.13.5"
  }
 },
 "nbformat": 4,
 "nbformat_minor": 5
}
