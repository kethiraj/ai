{
 "cells": [
  {
   "cell_type": "code",
   "execution_count": 2,
   "id": "900cb2ac-bff2-4447-ba91-0c1d881476c2",
   "metadata": {},
   "outputs": [],
   "source": [
    "from classassignment_outputs import classassignments"
   ]
  },
  {
   "cell_type": "code",
   "execution_count": 5,
   "id": "21dc1c0b-b901-45f3-9a0a-c62a5758486e",
   "metadata": {},
   "outputs": [
    {
     "name": "stdout",
     "output_type": "stream",
     "text": [
      "sub-fields in AI are:\n",
      "Machine Learning\n",
      "Neural Networks\n",
      "Vision\n",
      "Robotics\n",
      "Speech processing\n",
      "Netural Language Processing\n"
     ]
    }
   ],
   "source": [
    "classassignments.subfields()"
   ]
  },
  {
   "cell_type": "code",
   "execution_count": 6,
   "id": "1949ad9e-b9d2-4c51-aa5e-ad461e9c2737",
   "metadata": {},
   "outputs": [
    {
     "name": "stdin",
     "output_type": "stream",
     "text": [
      "Enter a number: 52452\n"
     ]
    },
    {
     "name": "stdout",
     "output_type": "stream",
     "text": [
      "52452 is Even number\n"
     ]
    }
   ],
   "source": [
    "classassignments.oddEven()"
   ]
  },
  {
   "cell_type": "code",
   "execution_count": 7,
   "id": "fde979ec-b62a-4bfd-b1a8-f95ee4c0dcbe",
   "metadata": {},
   "outputs": [
    {
     "name": "stdin",
     "output_type": "stream",
     "text": [
      "Your Gender:  Male\n",
      "Your Age:  20\n"
     ]
    },
    {
     "name": "stdout",
     "output_type": "stream",
     "text": [
      "NOT ELIGIBLE\n"
     ]
    }
   ],
   "source": [
    "classassignments.Elegible()"
   ]
  },
  {
   "cell_type": "code",
   "execution_count": 8,
   "id": "e5cfe595-e065-47ab-a0a8-8ddfe70f291a",
   "metadata": {},
   "outputs": [
    {
     "name": "stdin",
     "output_type": "stream",
     "text": [
      "Subjects1=  98\n",
      "Subjects2=  87\n",
      "Subjects3=  95\n",
      "Subjects4=  95\n",
      "Subjects5=  93\n"
     ]
    },
    {
     "name": "stdout",
     "output_type": "stream",
     "text": [
      "Total : 468\n",
      "Percentage : 93.6\n"
     ]
    }
   ],
   "source": [
    "classassignments.percentage()"
   ]
  },
  {
   "cell_type": "code",
   "execution_count": 3,
   "id": "5510e894-035e-461a-abe0-e99d4ac1f0e7",
   "metadata": {},
   "outputs": [
    {
     "name": "stdin",
     "output_type": "stream",
     "text": [
      "Height: 32\n",
      "Breadth: 34\n"
     ]
    },
    {
     "name": "stdout",
     "output_type": "stream",
     "text": [
      "Area formula: (Height*Breadth)/2\n",
      "Area of Triangle:  544.0\n"
     ]
    },
    {
     "name": "stdin",
     "output_type": "stream",
     "text": [
      "Height1: 2\n",
      "Height2: 4\n",
      "Breadth: 4\n"
     ]
    },
    {
     "name": "stdout",
     "output_type": "stream",
     "text": [
      "Perimeter formula: Height1+Height2+Breadth\n",
      "Perimeter of Triangle:  40\n"
     ]
    }
   ],
   "source": [
    "classassignments.triangle()"
   ]
  },
  {
   "cell_type": "code",
   "execution_count": null,
   "id": "40fd62d3-c966-463c-9338-e3966e5f6e7b",
   "metadata": {},
   "outputs": [],
   "source": []
  }
 ],
 "metadata": {
  "kernelspec": {
   "display_name": "Python 3 (ipykernel)",
   "language": "python",
   "name": "python3"
  },
  "language_info": {
   "codemirror_mode": {
    "name": "ipython",
    "version": 3
   },
   "file_extension": ".py",
   "mimetype": "text/x-python",
   "name": "python",
   "nbconvert_exporter": "python",
   "pygments_lexer": "ipython3",
   "version": "3.13.5"
  }
 },
 "nbformat": 4,
 "nbformat_minor": 5
}
