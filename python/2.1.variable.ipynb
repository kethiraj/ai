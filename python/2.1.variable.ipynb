{
 "cells": [
  {
   "cell_type": "code",
   "execution_count": 1,
   "id": "c0e4db53-aa4a-4dae-97e9-f2b25a613aa7",
   "metadata": {},
   "outputs": [],
   "source": [
    "n1=10\n",
    "n2=20\n",
    "add=n1+n2"
   ]
  },
  {
   "cell_type": "code",
   "execution_count": 3,
   "id": "5255cbab-4d7d-4981-b0cb-6f26babfbf52",
   "metadata": {},
   "outputs": [
    {
     "name": "stdout",
     "output_type": "stream",
     "text": [
      "30\n"
     ]
    }
   ],
   "source": [
    "print(add)"
   ]
  },
  {
   "cell_type": "code",
   "execution_count": 4,
   "id": "1aba8a35-3f11-443b-8c7d-28791423bc9c",
   "metadata": {},
   "outputs": [
    {
     "name": "stdout",
     "output_type": "stream",
     "text": [
      "7\n"
     ]
    }
   ],
   "source": [
    "a=3\n",
    "b=4\n",
    "c=a+b\n",
    "print(c)"
   ]
  },
  {
   "cell_type": "code",
   "execution_count": 5,
   "id": "661c3525-553b-4bf8-8209-aa5d9f9de02e",
   "metadata": {},
   "outputs": [
    {
     "name": "stdout",
     "output_type": "stream",
     "text": [
      "7 1 12 1.3333333333333333\n"
     ]
    }
   ],
   "source": [
    "add=a+b\n",
    "sub=b-a\n",
    "mul=a*b\n",
    "div=b/a\n",
    "print(add, sub, mul, div)"
   ]
  },
  {
   "cell_type": "code",
   "execution_count": 6,
   "id": "c2f6eeb7-3bdf-49be-92fd-1a74ddde182a",
   "metadata": {},
   "outputs": [
    {
     "name": "stdout",
     "output_type": "stream",
     "text": [
      "The addition of two numbers is : 30\n",
      "The number1: 10\n",
      "The number2: 20\n",
      "Answer is: 30\n"
     ]
    }
   ],
   "source": [
    "number1=10\n",
    "number2=20\n",
    "answer=number1+number2\n",
    "print(\"The addition of two numbers is :\", answer)\n",
    "print(\"The number1:\", number1)\n",
    "print(\"The number2:\", number2)\n",
    "print(\"Answer is:\", answer)"
   ]
  },
  {
   "cell_type": "code",
   "execution_count": null,
   "id": "b5f61821-8177-44af-88e4-39e656dba6c3",
   "metadata": {},
   "outputs": [],
   "source": []
  }
 ],
 "metadata": {
  "kernelspec": {
   "display_name": "Python 3 (ipykernel)",
   "language": "python",
   "name": "python3"
  },
  "language_info": {
   "codemirror_mode": {
    "name": "ipython",
    "version": 3
   },
   "file_extension": ".py",
   "mimetype": "text/x-python",
   "name": "python",
   "nbconvert_exporter": "python",
   "pygments_lexer": "ipython3",
   "version": "3.13.5"
  }
 },
 "nbformat": 4,
 "nbformat_minor": 5
}
