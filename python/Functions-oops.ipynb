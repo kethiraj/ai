{
 "cells": [
  {
   "cell_type": "code",
   "execution_count": 2,
   "id": "03eb937e-b22c-4c31-b315-25a09178d4c2",
   "metadata": {},
   "outputs": [
    {
     "name": "stdin",
     "output_type": "stream",
     "text": [
      " 18\n"
     ]
    },
    {
     "name": "stdout",
     "output_type": "stream",
     "text": [
      "Adult\n"
     ]
    }
   ],
   "source": [
    "#if\n",
    "age=int(input())\n",
    "if(age==18):\n",
    "    print(\"Adult\")"
   ]
  },
  {
   "cell_type": "code",
   "execution_count": 4,
   "id": "09f445e7-924d-4783-a435-f3dd829e5d5f",
   "metadata": {},
   "outputs": [
    {
     "name": "stdin",
     "output_type": "stream",
     "text": [
      "Enter the age: 11\n"
     ]
    },
    {
     "name": "stdout",
     "output_type": "stream",
     "text": [
      "children\n"
     ]
    }
   ],
   "source": [
    "#if-else\n",
    "age=int(input(\"Enter the age:\"))\n",
    "if(age>=18):\n",
    "    print(\"Adult\")\n",
    "else:\n",
    "    print(\"children\")\n",
    "        "
   ]
  },
  {
   "cell_type": "code",
   "execution_count": 9,
   "id": "ef1694ed-7c68-4c93-a5b1-f55b457145d3",
   "metadata": {},
   "outputs": [
    {
     "name": "stdin",
     "output_type": "stream",
     "text": [
      "Enter the age: 77\n"
     ]
    },
    {
     "name": "stdout",
     "output_type": "stream",
     "text": [
      "senior citizen\n"
     ]
    }
   ],
   "source": [
    "#if-elif\n",
    "age=int(input(\"Enter the age:\"))\n",
    "if(age<18):\n",
    "    print(\"children\")\n",
    "elif(age<35):\n",
    "    print(\"adult\")\n",
    "elif(age<59):\n",
    "    print(\"citizen\")\n",
    "else:\n",
    "    print(\"senior citizen\")    \n",
    "    "
   ]
  },
  {
   "cell_type": "code",
   "execution_count": 12,
   "id": "366121ce-4f1c-4d58-a055-86e21e837ed6",
   "metadata": {},
   "outputs": [
    {
     "name": "stdout",
     "output_type": "stream",
     "text": [
      "adult\n",
      "citizen\n",
      "adult\n",
      "citizen\n",
      "senior citizen\n"
     ]
    }
   ],
   "source": [
    "#for\n",
    "lists=[23,45,34,56,87]\n",
    "for age in lists:\n",
    "    if(age<18):\n",
    "        print(\"children\")\n",
    "    elif(age<35):\n",
    "        print(\"adult\")\n",
    "    elif(age<59):\n",
    "        print(\"citizen\")\n",
    "    else:\n",
    "        print(\"senior citizen\") "
   ]
  },
  {
   "cell_type": "code",
   "execution_count": 14,
   "id": "9028c69c-1e0d-4da7-aa2e-1187e33e7315",
   "metadata": {},
   "outputs": [
    {
     "name": "stdin",
     "output_type": "stream",
     "text": [
      " 7\n"
     ]
    },
    {
     "name": "stdout",
     "output_type": "stream",
     "text": [
      "odd\n"
     ]
    }
   ],
   "source": [
    "inputs=int(input())\n",
    "if((inputs % 2)==0):\n",
    "    print(\"even\")\n",
    "else:\n",
    "    print(\"odd\")"
   ]
  },
  {
   "cell_type": "code",
   "execution_count": 5,
   "id": "6d7ab9bd-1a7e-48c9-bb7d-8595e74b9f02",
   "metadata": {},
   "outputs": [],
   "source": [
    "lists=[23,45,34,56,87]"
   ]
  },
  {
   "cell_type": "code",
   "execution_count": 6,
   "id": "fed7d983-cecd-471a-a7a0-a539250f79a7",
   "metadata": {},
   "outputs": [],
   "source": [
    "def Agecategory():\n",
    "    for age in lists:\n",
    "        if(age<18):\n",
    "            print(\"children\")\n",
    "        elif(age<35):\n",
    "            print(\"adult\")\n",
    "        elif(age<59):\n",
    "            print(\"citizen\")\n",
    "        else:\n",
    "            print(\"senior citizen\") \n",
    "    "
   ]
  },
  {
   "cell_type": "code",
   "execution_count": 7,
   "id": "f1f522ed-421a-4025-85b7-cba5f37ee39d",
   "metadata": {},
   "outputs": [
    {
     "name": "stdout",
     "output_type": "stream",
     "text": [
      "adult\n",
      "citizen\n",
      "adult\n",
      "citizen\n",
      "senior citizen\n"
     ]
    }
   ],
   "source": [
    "Agecategory()"
   ]
  },
  {
   "cell_type": "code",
   "execution_count": 22,
   "id": "05d489dd-dbdb-4d70-b361-666be6681fc8",
   "metadata": {},
   "outputs": [
    {
     "name": "stdin",
     "output_type": "stream",
     "text": [
      "Enter age: 34\n"
     ]
    }
   ],
   "source": [
    "age=int(input(\"Enter age:\"))"
   ]
  },
  {
   "cell_type": "code",
   "execution_count": 27,
   "id": "31bbdab5-81dd-4a54-bce4-658b3ee20d70",
   "metadata": {},
   "outputs": [],
   "source": [
    "def Agecategory():\n",
    "    if(age<18):\n",
    "        print(\"children\")\n",
    "        output=\"child\"\n",
    "    elif(age<35):\n",
    "        print(\"adult\")\n",
    "        output=\"adult1\"\n",
    "    elif(age<59):\n",
    "        print(\"citizen\")\n",
    "        output=\"citi\"\n",
    "    else:\n",
    "        print(\"senior citizen\") \n",
    "        output=\"senior citi\"\n",
    "    return output    "
   ]
  },
  {
   "cell_type": "code",
   "execution_count": 32,
   "id": "ee25d640-b812-4043-a1ad-01540eaca3a2",
   "metadata": {},
   "outputs": [
    {
     "name": "stdin",
     "output_type": "stream",
     "text": [
      "Enter age: 76\n"
     ]
    },
    {
     "name": "stdout",
     "output_type": "stream",
     "text": [
      "senior citizen\n"
     ]
    }
   ],
   "source": [
    "age=int(input(\"Enter age:\"))\n",
    "cate=Agecategory()"
   ]
  },
  {
   "cell_type": "code",
   "execution_count": 33,
   "id": "71896ab7-3b15-446c-aeef-42db99475d9d",
   "metadata": {},
   "outputs": [
    {
     "name": "stdout",
     "output_type": "stream",
     "text": [
      "senior citi\n"
     ]
    }
   ],
   "source": [
    "print(cate)"
   ]
  },
  {
   "cell_type": "code",
   "execution_count": 36,
   "id": "539a2213-7b18-495a-8029-723bde613578",
   "metadata": {},
   "outputs": [],
   "source": [
    "def oddeven():\n",
    "    inputs=int(input())\n",
    "    if((inputs % 2)==0):\n",
    "        print(\"even\")\n",
    "        message=\"even\"\n",
    "    else:\n",
    "        print(\"odd\")\n",
    "        message=\"odd\"    \n",
    "    return message    "
   ]
  },
  {
   "cell_type": "code",
   "execution_count": 39,
   "id": "60f2deff-a2b8-40dd-b309-a1a0c81881d1",
   "metadata": {},
   "outputs": [
    {
     "name": "stdin",
     "output_type": "stream",
     "text": [
      " 4\n"
     ]
    },
    {
     "name": "stdout",
     "output_type": "stream",
     "text": [
      "even\n"
     ]
    }
   ],
   "source": [
    "message=oddeven()"
   ]
  },
  {
   "cell_type": "code",
   "execution_count": 40,
   "id": "62556d5d-8bb6-497d-b354-e6fb86e7d55e",
   "metadata": {},
   "outputs": [
    {
     "name": "stdout",
     "output_type": "stream",
     "text": [
      "Given number is even number\n"
     ]
    }
   ],
   "source": [
    "if(message==\"even\"):\n",
    "    print(\"Given number is even number\")\n",
    "else:\n",
    "    print(\"Given number is odd number\")   "
   ]
  },
  {
   "cell_type": "code",
   "execution_count": 41,
   "id": "2901382d-4efc-4a07-98b5-8aed791c1c65",
   "metadata": {},
   "outputs": [],
   "source": [
    "def addition(num1,num2):\n",
    "    add=num1+num2\n",
    "    return add    "
   ]
  },
  {
   "cell_type": "code",
   "execution_count": 43,
   "id": "c4c93252-5091-4b0b-8051-407b60955242",
   "metadata": {},
   "outputs": [
    {
     "data": {
      "text/plain": [
       "9"
      ]
     },
     "execution_count": 43,
     "metadata": {},
     "output_type": "execute_result"
    }
   ],
   "source": [
    "addition(4,5)"
   ]
  },
  {
   "cell_type": "code",
   "execution_count": 44,
   "id": "0892d2d5-ff04-498f-a226-8578e33f27c2",
   "metadata": {},
   "outputs": [],
   "source": [
    "def sub(num1,num2):\n",
    "    sub=num1-num2\n",
    "    return sub"
   ]
  },
  {
   "cell_type": "code",
   "execution_count": 45,
   "id": "4f7846a1-cc37-4749-9361-5c0ace968b73",
   "metadata": {},
   "outputs": [
    {
     "data": {
      "text/plain": [
       "5"
      ]
     },
     "execution_count": 45,
     "metadata": {},
     "output_type": "execute_result"
    }
   ],
   "source": [
    "sub(8,3)"
   ]
  },
  {
   "cell_type": "code",
   "execution_count": 8,
   "id": "9f4eceb6-c1c1-447f-bb82-9d6e7eb5577a",
   "metadata": {},
   "outputs": [],
   "source": [
    "class multiplefunction():\n",
    "    def oddeven():\n",
    "        inputs=int(input())\n",
    "        if((inputs % 2)==0):\n",
    "            print(\"even\")\n",
    "            message=\"even\"\n",
    "        else:\n",
    "            print(\"odd\")\n",
    "            message=\"odd\"    \n",
    "        return message    \n",
    "        \n",
    "    def BMI():\n",
    "        bmi=float(input(\"Enter the BMI Index:\"))\n",
    "        if(bmi<18.5):\n",
    "            print(\"Underweight\")\n",
    "            message=\"Underweight\"\n",
    "        elif(bmi>=18.5 and bmi<=24.9):\n",
    "            print(\"Healthy weight\")\n",
    "            message=\"Healthyweight\"\n",
    "        elif(bmi>=25 and bmi<=29.9):\n",
    "            print(\"Overweight\")\n",
    "            message=\"Overweight\"\n",
    "        else:\n",
    "            print(\"Very Overweight\") \n",
    "            message=\"veryoverweight\"\n",
    "        return message  \n",
    "            \n",
    "    "
   ]
  },
  {
   "cell_type": "code",
   "execution_count": 7,
   "id": "fa83c79b-0f68-4b90-a00f-1fe5a90d9a37",
   "metadata": {},
   "outputs": [
    {
     "name": "stdin",
     "output_type": "stream",
     "text": [
      "Enter the BMI Index: 34\n"
     ]
    },
    {
     "name": "stdout",
     "output_type": "stream",
     "text": [
      "Very Overweight\n"
     ]
    },
    {
     "data": {
      "text/plain": [
       "'veryoverweight'"
      ]
     },
     "execution_count": 7,
     "metadata": {},
     "output_type": "execute_result"
    }
   ],
   "source": [
    "multiplefunction.BMI()"
   ]
  },
  {
   "cell_type": "code",
   "execution_count": null,
   "id": "3ce49bc5-e791-45a9-8fb8-2d1e92da6c29",
   "metadata": {},
   "outputs": [],
   "source": []
  }
 ],
 "metadata": {
  "kernelspec": {
   "display_name": "Python 3 (ipykernel)",
   "language": "python",
   "name": "python3"
  },
  "language_info": {
   "codemirror_mode": {
    "name": "ipython",
    "version": 3
   },
   "file_extension": ".py",
   "mimetype": "text/x-python",
   "name": "python",
   "nbconvert_exporter": "python",
   "pygments_lexer": "ipython3",
   "version": "3.13.5"
  }
 },
 "nbformat": 4,
 "nbformat_minor": 5
}
