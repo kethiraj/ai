{
 "cells": [
  {
   "cell_type": "code",
   "execution_count": 2,
   "id": "03ca58a9-e4b1-4ac8-99df-06ccd4c02ddf",
   "metadata": {},
   "outputs": [],
   "source": [
    "from multiplefunctions  import ethiraj"
   ]
  },
  {
   "cell_type": "code",
   "execution_count": 3,
   "id": "d44a2a5c-47df-43d2-aa43-fe545e77d047",
   "metadata": {},
   "outputs": [
    {
     "name": "stdin",
     "output_type": "stream",
     "text": [
      "Enter the BMI Index: 32\n"
     ]
    },
    {
     "name": "stdout",
     "output_type": "stream",
     "text": [
      "Very Overweight\n"
     ]
    },
    {
     "data": {
      "text/plain": [
       "'veryoverweight'"
      ]
     },
     "execution_count": 3,
     "metadata": {},
     "output_type": "execute_result"
    }
   ],
   "source": [
    "ethiraj.BMI()"
   ]
  },
  {
   "cell_type": "code",
   "execution_count": 4,
   "id": "6c6a25af-cd83-46cc-8658-0e9dcbd689a8",
   "metadata": {},
   "outputs": [
    {
     "name": "stdin",
     "output_type": "stream",
     "text": [
      " 34\n"
     ]
    },
    {
     "name": "stdout",
     "output_type": "stream",
     "text": [
      "even\n"
     ]
    },
    {
     "data": {
      "text/plain": [
       "'even'"
      ]
     },
     "execution_count": 4,
     "metadata": {},
     "output_type": "execute_result"
    }
   ],
   "source": [
    "ethiraj.oddeven()"
   ]
  },
  {
   "cell_type": "code",
   "execution_count": null,
   "id": "5df821a8-602c-4b85-a9fb-d4cf88cb179b",
   "metadata": {},
   "outputs": [],
   "source": []
  }
 ],
 "metadata": {
  "kernelspec": {
   "display_name": "Python 3 (ipykernel)",
   "language": "python",
   "name": "python3"
  },
  "language_info": {
   "codemirror_mode": {
    "name": "ipython",
    "version": 3
   },
   "file_extension": ".py",
   "mimetype": "text/x-python",
   "name": "python",
   "nbconvert_exporter": "python",
   "pygments_lexer": "ipython3",
   "version": "3.13.5"
  }
 },
 "nbformat": 4,
 "nbformat_minor": 5
}
