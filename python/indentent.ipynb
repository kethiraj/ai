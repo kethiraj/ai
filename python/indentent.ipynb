{
 "cells": [
  {
   "cell_type": "code",
   "execution_count": null,
   "id": "c14c6680-2203-4e94-967e-7fce605fda12",
   "metadata": {},
   "outputs": [],
   "source": [
    "if(condition):\n",
    "    print()\n",
    "else:    "
   ]
  },
  {
   "cell_type": "code",
   "execution_count": 2,
   "id": "7276f361-d6cb-427c-9e52-3b52bba676cc",
   "metadata": {},
   "outputs": [
    {
     "name": "stdout",
     "output_type": "stream",
     "text": [
      "1\n",
      "2\n",
      "3\n",
      "4\n"
     ]
    }
   ],
   "source": [
    "for number in range(1,5):\n",
    "    print(number)"
   ]
  },
  {
   "cell_type": "code",
   "execution_count": null,
   "id": "10133b67-816d-4825-b7f9-77a28a2d9b4f",
   "metadata": {},
   "outputs": [],
   "source": [
    "def():\n",
    "\n"
   ]
  }
 ],
 "metadata": {
  "kernelspec": {
   "display_name": "Python 3 (ipykernel)",
   "language": "python",
   "name": "python3"
  },
  "language_info": {
   "codemirror_mode": {
    "name": "ipython",
    "version": 3
   },
   "file_extension": ".py",
   "mimetype": "text/x-python",
   "name": "python",
   "nbconvert_exporter": "python",
   "pygments_lexer": "ipython3",
   "version": "3.13.5"
  }
 },
 "nbformat": 4,
 "nbformat_minor": 5
}
